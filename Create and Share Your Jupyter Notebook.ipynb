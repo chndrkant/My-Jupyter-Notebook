{
    "cells": [
        {
            "cell_type": "markdown",
            "metadata": {
                "collapsed": true
            },
            "source": "# \"My Jupyter Notebook on IBM Watson Studio\""
        },
        {
            "cell_type": "markdown",
            "metadata": {},
            "source": "## My name is Chander Kant \nI want to be a Data Scientist."
        },
        {
            "cell_type": "markdown",
            "metadata": {},
            "source": "*I am interested in data science because I really like to play with Data and utilise it to gain useful insight which can be used to take informative business decision and to make predictive models*."
        },
        {
            "cell_type": "markdown",
            "metadata": {},
            "source": "In next cell we will see Print Hello.."
        },
        {
            "cell_type": "code",
            "execution_count": 4,
            "metadata": {},
            "outputs": [
                {
                    "name": "stdout",
                    "output_type": "stream",
                    "text": "Print Hello\n"
                }
            ],
            "source": "print( \"Print Hello\")"
        }
    ],
    "metadata": {
        "kernelspec": {
            "display_name": "Python 3.10",
            "language": "python",
            "name": "python3"
        },
        "language_info": {
            "codemirror_mode": {
                "name": "ipython",
                "version": 3
            },
            "file_extension": ".py",
            "mimetype": "text/x-python",
            "name": "python",
            "nbconvert_exporter": "python",
            "pygments_lexer": "ipython3",
            "version": "3.10.9"
        }
    },
    "nbformat": 4,
    "nbformat_minor": 1
}